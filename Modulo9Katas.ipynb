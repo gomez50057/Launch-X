{
 "cells": [
  {
   "cell_type": "markdown",
   "metadata": {},
   "source": [
    "# Ejercicio 1 Uso de funciones\n",
    "\n",
    "Los argumentos requeridos en las funciones se utilizan cuando las funciones necesitan que esos argumentos funcionen correctamente. En este ejercicio, construirás un informe de combustible que requiere información de varias ubicaciones de combustible en todo el cohete.\n",
    "\n"
   ]
  },
  {
   "cell_type": "code",
   "execution_count": 1,
   "metadata": {},
   "outputs": [
    {
     "name": "stdout",
     "output_type": "stream",
     "text": [
      "Informe:\n",
      "    Nivel de Tanque 1: 90%\n",
      "    Nivel de Tanque 2: 70%\n",
      "    Nivel de Tanque 3: 70% \n",
      "    Nivel Promedio Total: 81.66666666666667%\n",
      "    \n",
      "Informe:\n",
      "    Nivel de Tanque 1: 80%\n",
      "    Nivel de Tanque 2: 61%\n",
      "    Nivel de Tanque 3: 79%\n",
      "    Nivel Promedio Total: 73.33333333333333%\n",
      "    \n"
     ]
    }
   ],
   "source": [
    "def combustible(tanque1, tanque2, tanque3):\n",
    "    prom = (tanque1 + tanque2 + tanque3) / 3\n",
    "    return f\"\"\"Informe:\n",
    "    Nivel de Tanque 1: {tanque1}%\n",
    "    Nivel de Tanque 2: {tanque2}%\n",
    "    Nivel de Tanque 3: {tanque2}% \n",
    "    Nivel Promedio Total: {prom}%\n",
    "    \"\"\"\n",
    "print(combustible(90, 70, 85))  \n",
    "\n",
    "def prome(values):\n",
    "    total = sum(values)\n",
    "    return total / len(values)\n",
    "\n",
    "def combustible1(tanque1, tanque2, tanque3):\n",
    "    return f\"\"\"Informe:\n",
    "    Nivel de Tanque 1: {tanque1}%\n",
    "    Nivel de Tanque 2: {tanque2}%\n",
    "    Nivel de Tanque 3: {tanque3}%\n",
    "    Nivel Promedio Total: {prome([tanque1, tanque2, tanque3])}%\n",
    "    \"\"\"\n",
    "print(combustible1(80, 61, 79))"
   ]
  },
  {
   "cell_type": "markdown",
   "metadata": {},
   "source": [
    "# Ejercicio 2: Trabajo con argumentos de palabra clave\n",
    "\n",
    "Trabajar con argumentos de palabras clave en funciones, construirás un informe de cohete que requiere varias piezas de información, como el tiempo hasta el destino, el combustible a la izquierda y el nombre del destino. Comienza por crear una función que creará un informe preciso de la misión:"
   ]
  },
  {
   "cell_type": "code",
   "execution_count": 16,
   "metadata": {},
   "outputs": [
    {
     "name": "stdout",
     "output_type": "stream",
     "text": [
      "\n",
      "    Destino: Marte\n",
      "    Hora de Prelanzamiento: 15\n",
      "    Tiempo total de viaje: 55 minutos\n",
      "    Combustible total: 65126\n",
      "\n",
      "    Destino: Marte\n",
      "    Tiempo total de viaje: 74 minutos\n",
      "    Combustible total: 13406\n",
      "    \n",
      "\n",
      "    Destino: Marte\n",
      "    Tiempo total de viaje: 92 minutos\n",
      "    Combustible total: 13059\n",
      "    El tanque interno tiene 8405 galones \n",
      "    El tanque externo tiene 4654 galones \n",
      "    \n"
     ]
    }
   ],
   "source": [
    "def reporte(prelanzamiento, tie_vuelo, destino, tanque_ext, tanque_int):\n",
    "    return f\"\"\"\n",
    "    Destino: {destino}\n",
    "    Hora de Prelanzamiento: {prelanzamiento}\n",
    "    Tiempo total de viaje: {prelanzamiento + tie_vuelo} minutos\n",
    "    Combustible total: {abs(tanque_ext + tanque_int)}\"\"\"\n",
    "\n",
    "print(reporte(15, 40, \"Marte\", 4540, 60586))\n",
    "\n",
    "\n",
    "#Nueva funcion\n",
    "\n",
    "def report(destino, *min, **combustible):\n",
    "    return f\"\"\"\n",
    "    Destino: {destino}\n",
    "    Tiempo total de viaje: {sum(min)} minutos\n",
    "    Combustible total: {sum(combustible.values())}\n",
    "    \"\"\"\n",
    "\n",
    "print(report(\"Marte\", 15, 18, 41, interno=4632, externo=8774))\n",
    "\n",
    "#Nueva funcion con nombres de tanques\n",
    "\n",
    "def report(destino, *min, **combustible):\n",
    "    informe = f\"\"\"\n",
    "    Destino: {destino}\n",
    "    Tiempo total de viaje: {sum(min)} minutos\n",
    "    Combustible total: {sum(combustible.values())}\n",
    "    \"\"\"\n",
    "    for nom_tanque, galones in combustible.items():\n",
    "        informe += f\"El tanque {nom_tanque} tiene {galones} galones \\n    \"\n",
    "    return informe\n",
    "\n",
    "print(report(\"Marte\", 18, 14, 60, interno=8405, externo=4654))"
   ]
  }
 ],
 "metadata": {
  "interpreter": {
   "hash": "916dbcbb3f70747c44a77c7bcd40155683ae19c65e1c03b4aa3499c5328201f1"
  },
  "kernelspec": {
   "display_name": "Python 3.9.5 64-bit",
   "language": "python",
   "name": "python3"
  },
  "language_info": {
   "codemirror_mode": {
    "name": "ipython",
    "version": 3
   },
   "file_extension": ".py",
   "mimetype": "text/x-python",
   "name": "python",
   "nbconvert_exporter": "python",
   "pygments_lexer": "ipython3",
   "version": "3.10.2"
  },
  "orig_nbformat": 4
 },
 "nbformat": 4,
 "nbformat_minor": 2
}
