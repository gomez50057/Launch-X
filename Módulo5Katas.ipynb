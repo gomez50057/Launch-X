{
 "cells": [
  {
   "cell_type": "markdown",
   "metadata": {},
   "source": [
    "# Ejercicio 1 Operadores aritmeticos\n",
    "\n",
    "Exploremos cómo podemos crear un programa que pueda calcular la distancia entre dos planetas. Comenzaremos usando dos distancias de planetas: Tierra (149.597.870 km) y Júpiter (778.547.200 km)."
   ]
  },
  {
   "cell_type": "code",
   "execution_count": 4,
   "metadata": {},
   "outputs": [
    {
     "name": "stdout",
     "output_type": "stream",
     "text": [
      "La distancia de la Tierra a Jupiter es de: 390577534 millas y 628949330 Kilometros\n"
     ]
    }
   ],
   "source": [
    "from math import ceil\n",
    "tierra = 149597870\n",
    "jupiter = 778547200\n",
    "distancia = jupiter - tierra\n",
    "#convertir la distancia del kilómetro en millas multiplicándola por 0.621\n",
    "print(\"La distancia de la Tierra a Jupiter es de:\", ceil(distancia * 0.621), \"millas y\", distancia, \"Kilometros\")"
   ]
  },
  {
   "cell_type": "markdown",
   "metadata": {},
   "source": [
    "# Ejercicio 2 Convertir cadenas en numeros con absolutos\n",
    "\n",
    "Para crear nuestra aplicación, queremos leer la distancia del sol para dos planetas, y luego mostrar la distancia entre los planetas. Haremos esto usando input para leer los valores, int para convertir a entero y luego abs para convertir el resultado en su valor absoluto."
   ]
  },
  {
   "cell_type": "code",
   "execution_count": 9,
   "metadata": {},
   "outputs": [
    {
     "name": "stdout",
     "output_type": "stream",
     "text": [
      "La distancia calculada es:  5 Km y  3.105  en Millas\n"
     ]
    }
   ],
   "source": [
    "# Entrada desde terminal\n",
    "\n",
    "planeta_1 = int(input(\"Ingresa la distancia al sol dle primer planeta en Km: \"))\n",
    "planeta_2 = int(input(\"Ingresa la distancia al sol del segundo planeta en Km: \"))\n",
    "\n",
    "res = abs(planeta_2 - planeta_1)\n",
    "\n",
    "print(\"La distancia calculada es: \", res , \"Km y \", (res * 0.621), \" en Millas\")\n"
   ]
  }
 ],
 "metadata": {
  "interpreter": {
   "hash": "916dbcbb3f70747c44a77c7bcd40155683ae19c65e1c03b4aa3499c5328201f1"
  },
  "kernelspec": {
   "display_name": "Python 3.9.5 64-bit",
   "language": "python",
   "name": "python3"
  },
  "language_info": {
   "codemirror_mode": {
    "name": "ipython",
    "version": 3
   },
   "file_extension": ".py",
   "mimetype": "text/x-python",
   "name": "python",
   "nbconvert_exporter": "python",
   "pygments_lexer": "ipython3",
   "version": "3.9.5"
  },
  "orig_nbformat": 4
 },
 "nbformat": 4,
 "nbformat_minor": 2
}
