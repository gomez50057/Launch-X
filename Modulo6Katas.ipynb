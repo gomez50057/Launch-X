{
 "cells": [
  {
   "cell_type": "markdown",
   "metadata": {},
   "source": [
    "# Ejercicio 1 Crear y usar listas\n",
    "\n",
    "Las listas permiten almacenar varios valores en una sola variable. Comenzarás un proyecto sobre información planetaria creando una lista de planetas."
   ]
  },
  {
   "cell_type": "code",
   "execution_count": 7,
   "metadata": {},
   "outputs": [
    {
     "name": "stdout",
     "output_type": "stream",
     "text": [
      "El numero de planetas existentes es: 8 y son:\n",
      "['Mercurio', 'Venus', 'Tierra', 'Marte', 'Jupiter', 'Saturno', 'Urano', 'Neptuno', 'Pluton']\n",
      "Pluton , es el ultimo planeta y ahora hay: 9 planetas\n"
     ]
    }
   ],
   "source": [
    "planets = ['Mercurio', 'Venus', 'Tierra', 'Marte', 'Jupiter', 'Saturno', 'Urano', 'Neptuno']\n",
    "print(\"El numero de planetas existentes es:\", len(planets), \"y son:\")\n",
    "planets.append('Pluton')\n",
    "print(planets)\n",
    "print(planets[-1], \", es el ultimo planeta y ahora hay:\", len(planets), \"planetas\")"
   ]
  },
  {
   "cell_type": "markdown",
   "metadata": {},
   "source": [
    "# Ejercicio 2 Trabajando con datos de una lista\n",
    "\n",
    "Usar slices para recuperar partes de una lista. Es posible que debas trabajar con diferentes secciones de una lista. En nuestro ejemplo, queremos mostrar planetas más cerca y más lejos del sol de un planeta que el usuario ingresa por teclado."
   ]
  },
  {
   "cell_type": "code",
   "execution_count": 14,
   "metadata": {},
   "outputs": [
    {
     "name": "stdout",
     "output_type": "stream",
     "text": [
      "Venus  esta en el indice:  1\n",
      "Los planetas más cercanos al sol y Venus son:  ['Mercurio']\n",
      "Los planetas más alejados al sol y Venus son:  ['Tierra', 'Marte', 'Jupiter', 'Saturno', 'Urano', 'Neptuno']\n"
     ]
    }
   ],
   "source": [
    "planets = ['Mercurio', 'Venus', 'Tierra', 'Marte', 'Jupiter', 'Saturno', 'Urano', 'Neptuno']\n",
    "R = input(\"Ingresa el planeta que quieres, Ingresa la primer letra Mayuscula!!: \")\n",
    "planet_index = int(planets.index(R))\n",
    "print(R, \" esta en el indice: \", planet_index)\n",
    "mas_sercanos = planets[0:planet_index]\n",
    "print(\"Los planetas más cercanos al sol y\", R, \"son: \", mas_sercanos)\n",
    "mas_lejanos = planets[planet_index+1:]\n",
    "print(\"Los planetas más alejados al sol y\", R, \"son: \", mas_lejanos)\n"
   ]
  }
 ],
 "metadata": {
  "interpreter": {
   "hash": "916dbcbb3f70747c44a77c7bcd40155683ae19c65e1c03b4aa3499c5328201f1"
  },
  "kernelspec": {
   "display_name": "Python 3.9.5 64-bit",
   "language": "python",
   "name": "python3"
  },
  "language_info": {
   "codemirror_mode": {
    "name": "ipython",
    "version": 3
   },
   "file_extension": ".py",
   "mimetype": "text/x-python",
   "name": "python",
   "nbconvert_exporter": "python",
   "pygments_lexer": "ipython3",
   "version": "3.10.2"
  },
  "orig_nbformat": 4
 },
 "nbformat": 4,
 "nbformat_minor": 2
}
